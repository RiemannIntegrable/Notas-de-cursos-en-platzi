{
 "cells": [
  {
   "cell_type": "markdown",
   "metadata": {},
   "source": [
    "# Modelo a trabajar:\n",
    "\n",
    "![asd](/root/Platzi/CurMLops/apuntes/CurBasMLops/images/asd.png)"
   ]
  }
 ],
 "metadata": {
  "language_info": {
   "name": "python"
  }
 },
 "nbformat": 4,
 "nbformat_minor": 2
}
