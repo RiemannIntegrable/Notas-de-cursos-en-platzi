{
 "cells": [
  {
   "cell_type": "markdown",
   "metadata": {},
   "source": [
    "# Flujo típico de MLops  \n",
    "\n",
    "![a](/root/Platzi/CurMLops/apuntes/CurProfMLops/images/1.png)\n",
    "\n",
    "==================================================================================================================\n",
    "\n",
    "## Desing  \n",
    "\n",
    "Entendimiento del negocio y de los requisitos del cliente  \n",
    "\n",
    "==================================================================================================================  \n",
    "\n",
    "## Develop\n",
    "\n",
    "1) Partimos de un Feature store donde tenemos almacenados los datos.  \n",
    "2) Se realiza un típico analisis exploratorio de datos.  \n",
    "3) Pasamos a la parte de experimentar con distintos modelos. 2) y 3) se realiza típicamente en jupyter notebooks.  \n",
    "4) Subimos el código fuente de experimentación a un repositorio. Estos repositorios tienen piplines de CI/CD. \n",
    "\n",
    "==================================================================================================================  \n",
    "\n",
    "## Operations  \n",
    "\n",
    "1) Partimos de los mismos datos.  \n",
    "2) Se automatiza lo realizado en la fase de Develop, se debe almacenar toda la metadata (version de librerias, modelos, hiperparametros, resultados).  \n",
    "3) Una vez encontrado un modelo bueno, se registra y se testea.\n",
    "4) El CD se encarga de poner el modelo en producción.  \n",
    "5) Se almacenan las predicciones en una base de datos.  \n",
    "6) Se monitorea constantemente y se pone establecen triggers para volver a la fase 1) de operations si los resultados son muy extraños. O incluso, volver a la fase 1) de Develop."
   ]
  },
  {
   "cell_type": "markdown",
   "metadata": {},
   "source": [
    "# Componentes de un MLOPS\n",
    "\n",
    "## Control de versiones\n",
    "Git y Github\n",
    "\n",
    "## CI: integración continua\n",
    "\n",
    "Es garantizar que el codigo siga buenas practicas pues hay varios programadores trabajando en el mismo proyecto.\n",
    "\n",
    "## CD: Envío continuo\n",
    "\n",
    "Es que al momento de implementar un modelo de machine learning verificar la infraestructura para saber que va a funcionar la ejecución. También es verificar que la API este retornando datos con el estandar esperado.  \n",
    "\n",
    "## Orquestación\n",
    "\n",
    "Es unir y automatizar todos los procesos. La idea es que no haya intervención manual. Se utilizan frameworks como DVC, Prefect, Hydra, etc.\n",
    "\n",
    "## Model y Container Registry\n",
    "\n",
    "El objetivo es experimentar con distindos modelos de ML. Se registra todo en un repositorio. Se utiliza la libreria MLFlow.\n",
    "\n",
    "## Compute Serving\n",
    "\n",
    "Se refiere a de donde provienen los datos. Si estan almacenados o si estan siendo enviados en tiempo real.\n",
    "\n",
    "## Monitoreo\n",
    "\n",
    "Es monitorear las predicciones que ha realizado el modelo. Se utilizan herramientas como Grafana."
   ]
  },
  {
   "cell_type": "markdown",
   "metadata": {},
   "source": [
    "# Modelo que vamos a trabajar\n",
    "\n",
    "![a](/root/Platzi/CurMLops/apuntes/CurProfMLops/images/as.png)\n",
    "\n",
    "Es un modelo de ticket clasification"
   ]
  }
 ],
 "metadata": {
  "kernelspec": {
   "display_name": "base",
   "language": "python",
   "name": "python3"
  },
  "language_info": {
   "name": "python",
   "version": "3.11.9"
  }
 },
 "nbformat": 4,
 "nbformat_minor": 2
}
