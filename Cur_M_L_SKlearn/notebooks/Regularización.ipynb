{
 "cells": [
  {
   "cell_type": "markdown",
   "metadata": {},
   "source": [
    "# Regularización\n",
    "\n",
    "Cuando un modelo de machine learning se ajusta demaciado bien al conjunto de datos de entrenamiento que le damos es posible que no nos de buenas predicciones cuando le damos datos que no estaban en el conjunto de prueba. Para evitar eso durante el entrenamiento se introduce la regularización, que es penalizar un poco los datos que no aportan mucho al modelo\n",
    "\n",
    "![a](/root/Platzi/Cur_M_L_SKlearn/images/a.png)\n",
    "\n",
    "![b](/root/Platzi/Cur_M_L_SKlearn/images/b.png)\n",
    "\n",
    "![c](/root/Platzi/Cur_M_L_SKlearn/images/c.png)\n",
    "\n",
    "![d](/root/Platzi/Cur_M_L_SKlearn/images/d.png)"
   ]
  },
  {
   "cell_type": "code",
   "execution_count": 2,
   "metadata": {},
   "outputs": [],
   "source": [
    "import pandas as pd\n",
    "import sklearn\n",
    "\n",
    "from sklearn.linear_model import LinearRegression\n",
    "from sklearn.linear_model import Lasso\n",
    "from sklearn.linear_model import Ridge\n",
    "\n",
    "from sklearn.model_selection import train_test_split\n",
    "from sklearn.metrics import mean_squared_error"
   ]
  },
  {
   "cell_type": "code",
   "execution_count": 3,
   "metadata": {},
   "outputs": [],
   "source": [
    "dataset = pd.read_csv('/root/Platzi/Cur_M_L_SKlearn/data/felicidad_b0b50c6d-41dd-4ea8-a4f0-92a8068d4d3e.csv')"
   ]
  },
  {
   "cell_type": "code",
   "execution_count": 5,
   "metadata": {},
   "outputs": [],
   "source": [
    "X = dataset[['gdp', 'family', 'lifexp', 'freedom', 'corruption', 'generosity', 'dystopia']]\n",
    "y = dataset[['score']]"
   ]
  },
  {
   "cell_type": "code",
   "execution_count": 13,
   "metadata": {},
   "outputs": [],
   "source": [
    "X_train, X_test, y_train, y_test = train_test_split(X, y, test_size=0.25)"
   ]
  },
  {
   "cell_type": "markdown",
   "metadata": {},
   "source": [
    "## Regresión lineal normal"
   ]
  },
  {
   "cell_type": "code",
   "execution_count": 19,
   "metadata": {},
   "outputs": [
    {
     "data": {
      "text/plain": [
       "9.484829898351337e-08"
      ]
     },
     "execution_count": 19,
     "metadata": {},
     "output_type": "execute_result"
    }
   ],
   "source": [
    "linear_model = LinearRegression().fit(X_train, y_train)\n",
    "y_predict_linear = linear_model.predict(X_test)\n",
    "linear_loss = mean_squared_error(y_test, y_predict_linear)\n",
    "linear_loss"
   ]
  },
  {
   "cell_type": "markdown",
   "metadata": {},
   "source": [
    "## L1 (Lasso)"
   ]
  },
  {
   "cell_type": "code",
   "execution_count": 20,
   "metadata": {},
   "outputs": [
    {
     "data": {
      "text/plain": [
       "0.05058547722432287"
      ]
     },
     "execution_count": 20,
     "metadata": {},
     "output_type": "execute_result"
    }
   ],
   "source": [
    "lasso_model = Lasso(alpha=0.02).fit(X_train, y_train)\n",
    "y_predict_lasso = lasso_model.predict(X_test)\n",
    "lasso_loss = mean_squared_error(y_test, y_predict_lasso)\n",
    "lasso_loss"
   ]
  },
  {
   "cell_type": "markdown",
   "metadata": {},
   "source": [
    "## L2 (Ridge)"
   ]
  },
  {
   "cell_type": "code",
   "execution_count": 21,
   "metadata": {},
   "outputs": [
    {
     "data": {
      "text/plain": [
       "4.498632750426868e-06"
      ]
     },
     "execution_count": 21,
     "metadata": {},
     "output_type": "execute_result"
    }
   ],
   "source": [
    "ridge_model = Ridge(alpha=0.02).fit(X_train, y_train)\n",
    "y_predict_ridge = ridge_model.predict(X_test)\n",
    "ridge_loss = mean_squared_error(y_test, y_predict_ridge)\n",
    "ridge_loss"
   ]
  }
 ],
 "metadata": {
  "kernelspec": {
   "display_name": "base",
   "language": "python",
   "name": "python3"
  },
  "language_info": {
   "codemirror_mode": {
    "name": "ipython",
    "version": 3
   },
   "file_extension": ".py",
   "mimetype": "text/x-python",
   "name": "python",
   "nbconvert_exporter": "python",
   "pygments_lexer": "ipython3",
   "version": "3.11.9"
  }
 },
 "nbformat": 4,
 "nbformat_minor": 2
}
