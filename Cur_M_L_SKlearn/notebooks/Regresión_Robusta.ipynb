{
 "cells": [
  {
   "cell_type": "markdown",
   "metadata": {},
   "source": [
    "# Datos atípicos\n",
    "\n",
    "![x](/root/Platzi/Cur_M_L_SKlearn/images/x.png)\n",
    "![y](/root/Platzi/Cur_M_L_SKlearn/images/y.png)"
   ]
  },
  {
   "cell_type": "markdown",
   "metadata": {},
   "source": [
    "# Librerias"
   ]
  },
  {
   "cell_type": "code",
   "execution_count": 1,
   "metadata": {},
   "outputs": [],
   "source": [
    "import pandas as pd\n",
    "from sklearn.linear_model import RANSACRegressor, HuberRegressor\n",
    "from sklearn.svm import SVR\n",
    "from sklearn.metrics import mean_squared_error\n",
    "from sklearn.model_selection import train_test_split"
   ]
  },
  {
   "cell_type": "markdown",
   "metadata": {},
   "source": [
    "# Datos corruptos para hacer la regresión robusta"
   ]
  },
  {
   "cell_type": "code",
   "execution_count": 4,
   "metadata": {},
   "outputs": [],
   "source": [
    "dataset = pd.read_csv('/home/riemannintegrable/Platzi/Cur_M_L_SKlearn/data/felicidad_corrupt.csv')\n",
    "X = dataset.drop(['country', 'score'], axis=1)\n",
    "y = dataset['score']\n",
    "\n",
    "X_train, X_test, y_train, y_test = train_test_split(X, y, test_size=0.3, random_state=42)\n",
    "\n",
    "estimadores = {\n",
    "    'RANSAC': RANSACRegressor(),\n",
    "    'Huber': HuberRegressor(epsilon=1.35),\n",
    "    'SVR': SVR(gamma='auto', C=1.0, epsilon=0.1)\n",
    "}"
   ]
  },
  {
   "cell_type": "markdown",
   "metadata": {},
   "source": [
    "# Regresiones robustas\n",
    "\n",
    "![z](/root/Platzi/Cur_M_L_SKlearn/images/z.png)\n",
    "\n",
    "![w](/root/Platzi/Cur_M_L_SKlearn/images/w.png)"
   ]
  },
  {
   "cell_type": "code",
   "execution_count": 5,
   "metadata": {},
   "outputs": [
    {
     "name": "stdout",
     "output_type": "stream",
     "text": [
      "RANSAC MSE = 1.2756388196785554e-19\n",
      "\n",
      "Huber MSE = 8.300263477689705e-07\n",
      "\n",
      "SVR MSE = 0.07455771301888525\n",
      "\n"
     ]
    },
    {
     "name": "stderr",
     "output_type": "stream",
     "text": [
      "/home/riemannintegrable/Platzi/Cur_M_L_SKlearn/env_ML_SKlearn/lib/python3.12/site-packages/sklearn/linear_model/_huber.py:342: ConvergenceWarning: lbfgs failed to converge (status=1):\n",
      "STOP: TOTAL NO. of ITERATIONS REACHED LIMIT.\n",
      "\n",
      "Increase the number of iterations (max_iter) or scale the data as shown in:\n",
      "    https://scikit-learn.org/stable/modules/preprocessing.html\n",
      "  self.n_iter_ = _check_optimize_result(\"lbfgs\", opt_res, self.max_iter)\n"
     ]
    }
   ],
   "source": [
    "for name, estimador in estimadores.items():\n",
    "    estimador.fit(X_train,y_train)\n",
    "    predictions = estimador.predict(X_test)\n",
    "    print(name + ' MSE = ' + str(mean_squared_error(y_test, predictions)) + '\\n')"
   ]
  }
 ],
 "metadata": {
  "kernelspec": {
   "display_name": "base",
   "language": "python",
   "name": "python3"
  },
  "language_info": {
   "codemirror_mode": {
    "name": "ipython",
    "version": 3
   },
   "file_extension": ".py",
   "mimetype": "text/x-python",
   "name": "python",
   "nbconvert_exporter": "python",
   "pygments_lexer": "ipython3",
   "version": "3.12.4"
  }
 },
 "nbformat": 4,
 "nbformat_minor": 2
}
