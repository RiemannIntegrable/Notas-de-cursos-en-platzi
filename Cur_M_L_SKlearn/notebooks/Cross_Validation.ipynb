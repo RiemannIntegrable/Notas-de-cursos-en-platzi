{
 "cells": [
  {
   "cell_type": "markdown",
   "metadata": {},
   "source": [
    "# Validación de datos cruzada\n",
    "\n",
    "![a](/root/Platzi/Cur_M_L_SKlearn/images/Xx.png)\n",
    "![a](/root/Platzi/Cur_M_L_SKlearn/images/Yy.png)\n",
    "![a](/root/Platzi/Cur_M_L_SKlearn/images/Zz.png)\n",
    "![a](/root/Platzi/Cur_M_L_SKlearn/images/Ww.png)\n",
    "![a](/root/Platzi/Cur_M_L_SKlearn/images/Kk.png)"
   ]
  },
  {
   "cell_type": "markdown",
   "metadata": {},
   "source": [
    "# K-folds"
   ]
  },
  {
   "cell_type": "code",
   "execution_count": 19,
   "metadata": {},
   "outputs": [],
   "source": [
    "import numpy as np\n",
    "import pandas as pd\n",
    "from sklearn.tree import DecisionTreeRegressor\n",
    "from sklearn.model_selection import cross_val_score, KFold"
   ]
  },
  {
   "cell_type": "code",
   "execution_count": 20,
   "metadata": {},
   "outputs": [],
   "source": [
    "dataset = pd.read_csv('/root/Platzi/Cur_M_L_SKlearn/data/felicidad_b0b50c6d-41dd-4ea8-a4f0-92a8068d4d3e.csv')\n",
    "X = dataset.drop(['country', 'score'], axis=1)\n",
    "y = dataset['score']"
   ]
  },
  {
   "cell_type": "code",
   "execution_count": 21,
   "metadata": {},
   "outputs": [
    {
     "data": {
      "text/plain": [
       "array([-0.38294509, -0.04006889, -0.01279589, -0.03239557, -0.01450917,\n",
       "       -0.03500039, -0.04420444, -0.3175087 ])"
      ]
     },
     "execution_count": 21,
     "metadata": {},
     "output_type": "execute_result"
    }
   ],
   "source": [
    "model = DecisionTreeRegressor()\n",
    "score = cross_val_score(model, X, y, cv=8, scoring='neg_mean_squared_error')\n",
    "score"
   ]
  },
  {
   "cell_type": "code",
   "execution_count": 22,
   "metadata": {},
   "outputs": [
    {
     "data": {
      "text/plain": [
       "0.10992851580858118"
      ]
     },
     "execution_count": 22,
     "metadata": {},
     "output_type": "execute_result"
    }
   ],
   "source": [
    "score.mean()*-1"
   ]
  },
  {
   "cell_type": "markdown",
   "metadata": {},
   "source": [
    "# Optimización de parametros\n",
    "\n",
    "![a](/root/Platzi/Cur_M_L_SKlearn/images/AAA.png)\n",
    "![a](/root/Platzi/Cur_M_L_SKlearn/images/BBB.png)\n",
    "![a](/root/Platzi/Cur_M_L_SKlearn/images/CCC.png)\n",
    "![a](/root/Platzi/Cur_M_L_SKlearn/images/DDD.png)\n",
    "![a](/root/Platzi/Cur_M_L_SKlearn/images/EEE.png)\n",
    "![a](/root/Platzi/Cur_M_L_SKlearn/images/FFF.png)\n",
    "![a](/root/Platzi/Cur_M_L_SKlearn/images/GGG.png)"
   ]
  },
  {
   "cell_type": "markdown",
   "metadata": {},
   "source": [
    "# Randomized Search CV"
   ]
  },
  {
   "cell_type": "code",
   "execution_count": 23,
   "metadata": {},
   "outputs": [],
   "source": [
    "import pandas as pd\n",
    "from sklearn.model_selection import RandomizedSearchCV\n",
    "from sklearn.ensemble import RandomForestRegressor"
   ]
  },
  {
   "cell_type": "code",
   "execution_count": 24,
   "metadata": {},
   "outputs": [],
   "source": [
    "dataset = pd.read_csv('/root/Platzi/Cur_M_L_SKlearn/data/felicidad_b0b50c6d-41dd-4ea8-a4f0-92a8068d4d3e.csv')\n",
    "X = dataset.drop(['country', 'rank', 'score'], axis=1)\n",
    "y = dataset['score']\n",
    "reg = RandomForestRegressor()"
   ]
  },
  {
   "cell_type": "code",
   "execution_count": 29,
   "metadata": {},
   "outputs": [],
   "source": [
    "parametros = {\n",
    "    'n_estimators': range(4,16),\n",
    "    'criterion': ['squared_error', 'absolute_error'],\n",
    "    'max_depth': range(2,11)\n",
    "}"
   ]
  },
  {
   "cell_type": "code",
   "execution_count": 30,
   "metadata": {},
   "outputs": [],
   "source": [
    "rand_est = RandomizedSearchCV(reg, parametros, n_iter=10, cv=3, scoring='neg_mean_absolute_error').fit(X,y)"
   ]
  },
  {
   "cell_type": "code",
   "execution_count": 32,
   "metadata": {},
   "outputs": [
    {
     "data": {
      "text/plain": [
       "{'n_estimators': 12, 'max_depth': 7, 'criterion': 'absolute_error'}"
      ]
     },
     "execution_count": 32,
     "metadata": {},
     "output_type": "execute_result"
    }
   ],
   "source": [
    "rand_est.best_params_"
   ]
  },
  {
   "cell_type": "code",
   "execution_count": 33,
   "metadata": {},
   "outputs": [
    {
     "data": {
      "text/plain": [
       "array([7.52983348])"
      ]
     },
     "execution_count": 33,
     "metadata": {},
     "output_type": "execute_result"
    }
   ],
   "source": [
    "rand_est.predict(X.loc[[0]])"
   ]
  }
 ],
 "metadata": {
  "kernelspec": {
   "display_name": "base",
   "language": "python",
   "name": "python3"
  },
  "language_info": {
   "codemirror_mode": {
    "name": "ipython",
    "version": 3
   },
   "file_extension": ".py",
   "mimetype": "text/x-python",
   "name": "python",
   "nbconvert_exporter": "python",
   "pygments_lexer": "ipython3",
   "version": "3.11.9"
  }
 },
 "nbformat": 4,
 "nbformat_minor": 2
}
